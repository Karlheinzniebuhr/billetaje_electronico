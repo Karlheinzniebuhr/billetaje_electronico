{
 "cells": [
  {
   "cell_type": "code",
   "execution_count": 1,
   "metadata": {},
   "outputs": [],
   "source": [
    "import polars as pl\n",
    "import seaborn as sns\n",
    "import matplotlib.pyplot as plt\n",
    "import plotly.express as px"
   ]
  },
  {
   "attachments": {},
   "cell_type": "markdown",
   "metadata": {},
   "source": [
    "# Pre-procesamiento\n",
    "\n",
    "- Descargar los datos https://drive.google.com/drive/folders/12EbE0PEEnCjUVjhzMDNa1W7M9tR4ZzwW?usp=share_link\n",
    "- Hacer merge de los datos\n",
    "```bash\n",
    "awk -F ';' 'FNR==1 && NR!=1{next} {print}' *.csv | sed '/^$/d' > ../merged.csv\n",
    "```"
   ]
  },
  {
   "attachments": {},
   "cell_type": "markdown",
   "metadata": {},
   "source": [
    "Diccionario de datos facilitado por [https://github.com/luchobenitez/monda-guasu](https://github.com/luchobenitez/monda-guasu)\n",
    "\n",
    "|Campo|Descripción|Tipo de Dato|\n",
    "|-----|-----------|------------|\n",
    "|serialtarjeta|Identificador de la tarjeta. Puede ser nominal o no, por lo que se puede llegar a la identidad del pasajero. Para nuestro análisis asumimos que es un pasajero|hash md5|\n",
    "|idsam|Identificador del chip instalado en el equipo verificador. No necesariamente permanece con el mismo equipo verificador. Puede cambiar de bus, inclusive de línea o de EOT. Asumimos que identifica al bus|string|\n",
    "|fechahoraevento|Timestamp del inicio del viaje|timestamp|\n",
    "|producto|Tipo de producto donde:  - CR. Crédito o saldo negativo de la tarjeta - ES. Uso Especial (Estudiante o discapacitado) - MO. Monedero o uso normal|string|\n",
    "|montoevento|Monto del evento descontado de la tarjeta. |entero|\n",
    "|consecutivoevento|Identificador consecutivo de numero de transacción realizado con la tarjeta identificada con serialtarjeta|entero|\n",
    "|identidad|Se refiere al propietario del validador donde: - 1. VMT - 2. MAS - 3. JAHA |entero|\n",
    "|tipoevento|Tipo de evento donde: - 4. Viaje Normal - 8. Devolución - 10. Recarga de la tarjeta. - 14. Devolucion. Utilizaremos solo los del tipo 4|punto flotante|\n",
    "|longitude|Longitud geográfica|punto flotante|\n",
    "|Latitude|Latitude geográfica|punto flotante|\n",
    "|idrutaestacion|Identificador de ruta asociado a una EOT. Ver tabla adicional|string|\n",
    "|tipotransporte|Tipo de transporte donde - 0. Bus municipal interno - 1. Normal  - 3. Diferencial|entero|"
   ]
  },
  {
   "cell_type": "code",
   "execution_count": 2,
   "metadata": {},
   "outputs": [
    {
     "data": {
      "text/html": [
       "<div><style>\n",
       ".dataframe > thead > tr > th,\n",
       ".dataframe > tbody > tr > td {\n",
       "  text-align: right;\n",
       "}\n",
       "</style>\n",
       "<small>shape: (217479675, 2)</small><table border=\"1\" class=\"dataframe\"><thead><tr><th>serialtarjeta</th><th>consecutivoevento</th></tr><tr><td>str</td><td>i64</td></tr></thead><tbody><tr><td>&quot;37ce879fc894a9...</td><td>2</td></tr><tr><td>&quot;1228002de737cc...</td><td>2</td></tr><tr><td>&quot;6143e4cd392b4d...</td><td>2</td></tr><tr><td>&quot;b59787e0e5dd50...</td><td>2</td></tr><tr><td>&quot;437cadb2126cd0...</td><td>2</td></tr><tr><td>&quot;6c5abeb0144b37...</td><td>2</td></tr><tr><td>&quot;2db42068576860...</td><td>2</td></tr><tr><td>&quot;e5e07438d46c57...</td><td>2</td></tr><tr><td>&quot;3123c3642ac0c1...</td><td>2</td></tr><tr><td>&quot;1dd70cfc563398...</td><td>2</td></tr><tr><td>&quot;11738d3525ccfd...</td><td>2</td></tr><tr><td>&quot;c847e5f2a864a2...</td><td>2</td></tr><tr><td>&hellip;</td><td>&hellip;</td></tr><tr><td>&quot;eb0485368e95a1...</td><td>922410</td></tr><tr><td>&quot;eb0485368e95a1...</td><td>922411</td></tr><tr><td>&quot;eb0485368e95a1...</td><td>922412</td></tr><tr><td>&quot;eb0485368e95a1...</td><td>922413</td></tr><tr><td>&quot;eb0485368e95a1...</td><td>922414</td></tr><tr><td>&quot;eb0485368e95a1...</td><td>922416</td></tr><tr><td>&quot;eb0485368e95a1...</td><td>922417</td></tr><tr><td>&quot;eb0485368e95a1...</td><td>922418</td></tr><tr><td>&quot;eb0485368e95a1...</td><td>922419</td></tr><tr><td>&quot;eb0485368e95a1...</td><td>922420</td></tr><tr><td>&quot;eb0485368e95a1...</td><td>922421</td></tr><tr><td>&quot;eb0485368e95a1...</td><td>922422</td></tr></tbody></table></div>"
      ],
      "text/plain": [
       "shape: (217479675, 2)\n",
       "┌──────────────────────────────────┬───────────────────┐\n",
       "│ serialtarjeta                    ┆ consecutivoevento │\n",
       "│ ---                              ┆ ---               │\n",
       "│ str                              ┆ i64               │\n",
       "╞══════════════════════════════════╪═══════════════════╡\n",
       "│ 37ce879fc894a9ebaeec95e24fcd6093 ┆ 2                 │\n",
       "│ 1228002de737cc2547171ccaa51e391b ┆ 2                 │\n",
       "│ 6143e4cd392b4daf73a74e05ea683466 ┆ 2                 │\n",
       "│ b59787e0e5dd50185fa90e53e3a2165d ┆ 2                 │\n",
       "│ …                                ┆ …                 │\n",
       "│ eb0485368e95a196961879fe3c96500a ┆ 922419            │\n",
       "│ eb0485368e95a196961879fe3c96500a ┆ 922420            │\n",
       "│ eb0485368e95a196961879fe3c96500a ┆ 922421            │\n",
       "│ eb0485368e95a196961879fe3c96500a ┆ 922422            │\n",
       "└──────────────────────────────────┴───────────────────┘"
      ]
     },
     "execution_count": 2,
     "metadata": {},
     "output_type": "execute_result"
    }
   ],
   "source": [
    "df = pl.read_csv('merged.csv', separator=';', try_parse_dates=True, columns=['serialtarjeta','consecutivoevento'])\n",
    "# order by consecutivoevento descending and show 20 rows\n",
    "df = df.sort('consecutivoevento')\n",
    "df"
   ]
  },
  {
   "attachments": {},
   "cell_type": "markdown",
   "metadata": {},
   "source": [
    "## Quiero saber cuantas veces hay un numero consecutivo faltante en la columna consecutivoevento. \n",
    "Pasos a seguir:\n",
    "- Agrupar por serialtarjeta\n",
    "- calcular la diferencia entre los numeros consecutivos\n",
    "- contar cuantas veces ocurre cada una de las diferencias"
   ]
  },
  {
   "cell_type": "code",
   "execution_count": 8,
   "metadata": {},
   "outputs": [
    {
     "data": {
      "text/html": [
       "<div><style>\n",
       ".dataframe > thead > tr > th,\n",
       ".dataframe > tbody > tr > td {\n",
       "  text-align: right;\n",
       "}\n",
       "</style>\n",
       "<small>shape: (5, 2)</small><table border=\"1\" class=\"dataframe\"><thead><tr><th>serialtarjeta</th><th>consecutivoevento_diff_count</th></tr><tr><td>str</td><td>u32</td></tr></thead><tbody><tr><td>&quot;cf47f49b8b4e62...</td><td>55</td></tr><tr><td>&quot;df34af489dc0c5...</td><td>10</td></tr><tr><td>&quot;6679d49f54df5b...</td><td>53</td></tr><tr><td>&quot;6e5f25c3f14f44...</td><td>9</td></tr><tr><td>&quot;d7fe7c90679bd1...</td><td>167</td></tr></tbody></table></div>"
      ],
      "text/plain": [
       "shape: (5, 2)\n",
       "┌──────────────────────────────────┬──────────────────────────────┐\n",
       "│ serialtarjeta                    ┆ consecutivoevento_diff_count │\n",
       "│ ---                              ┆ ---                          │\n",
       "│ str                              ┆ u32                          │\n",
       "╞══════════════════════════════════╪══════════════════════════════╡\n",
       "│ cf47f49b8b4e620981d57a135ea4ea04 ┆ 55                           │\n",
       "│ df34af489dc0c5bd793104f82bec8b0f ┆ 10                           │\n",
       "│ 6679d49f54df5bfa3a17971829d4356c ┆ 53                           │\n",
       "│ 6e5f25c3f14f446a4bb038a9a26435c0 ┆ 9                            │\n",
       "│ d7fe7c90679bd14d7517fc235d0f3eac ┆ 167                          │\n",
       "└──────────────────────────────────┴──────────────────────────────┘"
      ]
     },
     "execution_count": 8,
     "metadata": {},
     "output_type": "execute_result"
    }
   ],
   "source": [
    "# Using polars group df by serialtarjeta and then calculate the difference between the consecutive events in consecutivoevento and count the number of events. \n",
    "missing_consecutivoevento_por_serialtarjeta = df.groupby(['serialtarjeta']).agg([pl.col('consecutivoevento').diff().count()])\n",
    "# rename consecutivoevento column to consecutivoevento_diff_count\n",
    "missing_consecutivoevento_por_serialtarjeta = missing_consecutivoevento_por_serialtarjeta.rename({'consecutivoevento': 'consecutivoevento_diff_count'})\n",
    "missing_consecutivoevento_por_serialtarjeta.head()"
   ]
  },
  {
   "cell_type": "code",
   "execution_count": 9,
   "metadata": {},
   "outputs": [
    {
     "name": "stderr",
     "output_type": "stream",
     "text": [
      "C:\\Users\\Karl\\AppData\\Local\\Temp/ipykernel_27032/2919029341.py:2: DeprecationWarning: `reverse` is deprecated as an argument to `sort`; use `descending` instead.\n",
      "  missing_consecutivoevento_por_serialtarjeta.sort('consecutivoevento_diff_count', reverse=True).head(20).to_numpy()\n"
     ]
    },
    {
     "data": {
      "text/plain": [
       "array([['18f6e00ec04d8e05438254c3b1e8502b', 22308],\n",
       "       ['bc069bee563eaca48c54a33f788b0f27', 18562],\n",
       "       ['9ab72b0115d5793f64285348af916464', 16054],\n",
       "       ['0a0d03a58ca2cee8d5de631884cf6089', 15285],\n",
       "       ['0e13796ff34ba4016a16cff9dd069430', 14776],\n",
       "       ['21a4ee1cf5379525e614640fb14f23f3', 14743],\n",
       "       ['ad1ce39e55470a064263da9209b7d4d6', 14021],\n",
       "       ['adf929e7c06a0a79fdff9b49ce78b08d', 13959],\n",
       "       ['f6ef359bc074b3137c4ee70fa475d3b1', 13344],\n",
       "       ['c6ec60f6ff89eb3716510a1f08ab11d8', 12261],\n",
       "       ['36c597c0a77ebcdc38811c3dcd1a124c', 11292],\n",
       "       ['e1a9b54899db863091a64bc878855073', 10691],\n",
       "       ['311cf4ea8b9c56612f986cb7f53c666c', 10448],\n",
       "       ['c9ba98eea1530eb9a55aff3d27ad49d2', 10401],\n",
       "       ['d9ddc0ef08b376d1e92ba38037c05e19', 9675],\n",
       "       ['cfd016a6423f0071a9bb8d1dcbe3829a', 9178],\n",
       "       ['02279ac6de68db080dcfec5348f7cec2', 8993],\n",
       "       ['6c034eaaec3b846aebba7b25c69f7103', 8825],\n",
       "       ['a8241cdb085eb3dc53de1e5d3e533b2d', 8245],\n",
       "       ['b66d8adc0ec1bb690a989ba4b8e968cb', 7504]], dtype=object)"
      ]
     },
     "execution_count": 9,
     "metadata": {},
     "output_type": "execute_result"
    }
   ],
   "source": [
    "# oder missing_consecutivoevento_por_serialtarjeta by consecutivoevento descending and show 20 rows\n",
    "missing_consecutivoevento_por_serialtarjeta.sort('consecutivoevento_diff_count', reverse=True).head(20).to_numpy()"
   ]
  },
  {
   "cell_type": "code",
   "execution_count": 10,
   "metadata": {},
   "outputs": [
    {
     "data": {
      "text/html": [
       "<div><style>\n",
       ".dataframe > thead > tr > th,\n",
       ".dataframe > tbody > tr > td {\n",
       "  text-align: right;\n",
       "}\n",
       "</style>\n",
       "<small>shape: (1, 2)</small><table border=\"1\" class=\"dataframe\"><thead><tr><th>serialtarjeta</th><th>consecutivoevento</th></tr><tr><td>str</td><td>u32</td></tr></thead><tbody><tr><td>&quot;18f6e00ec04d8e...</td><td>22308</td></tr></tbody></table></div>"
      ],
      "text/plain": [
       "shape: (1, 2)\n",
       "┌──────────────────────────────────┬───────────────────┐\n",
       "│ serialtarjeta                    ┆ consecutivoevento │\n",
       "│ ---                              ┆ ---               │\n",
       "│ str                              ┆ u32               │\n",
       "╞══════════════════════════════════╪═══════════════════╡\n",
       "│ 18f6e00ec04d8e05438254c3b1e8502b ┆ 22308             │\n",
       "└──────────────────────────────────┴───────────────────┘"
      ]
     },
     "execution_count": 10,
     "metadata": {},
     "output_type": "execute_result"
    }
   ],
   "source": [
    "# Cross validiate by filtering serialtarjeta = 18f6e00ec04d8e05438254c3b1e8502b and count the differences of consecutivoevento\n",
    "df.filter(pl.col(\"serialtarjeta\") == '18f6e00ec04d8e05438254c3b1e8502b').groupby(['serialtarjeta']).agg([pl.col('consecutivoevento').diff().count()])"
   ]
  },
  {
   "cell_type": "code",
   "execution_count": 12,
   "metadata": {},
   "outputs": [
    {
     "name": "stderr",
     "output_type": "stream",
     "text": [
      "C:\\Users\\Karl\\AppData\\Local\\Temp/ipykernel_27032/2579270040.py:2: DeprecationWarning: `reverse` is deprecated as an argument to `sort`; use `descending` instead.\n",
      "  missing_consecutivoevento_por_serialtarjeta.sort('consecutivoevento_diff_count', reverse=True).to_pandas().to_csv('missing_consecutivoevento_por_serialtarjeta.csv')\n"
     ]
    }
   ],
   "source": [
    "# order by consecutivoevento_diff_count in descending order and save a csv of missing_consecutivoevento_por_serialtarjeta\n",
    "missing_consecutivoevento_por_serialtarjeta.sort('consecutivoevento_diff_count', reverse=True).to_pandas().to_csv('missing_consecutivoevento_por_serialtarjeta.csv')"
   ]
  }
 ],
 "metadata": {
  "kernelspec": {
   "display_name": "base",
   "language": "python",
   "name": "python3"
  },
  "language_info": {
   "codemirror_mode": {
    "name": "ipython",
    "version": 3
   },
   "file_extension": ".py",
   "mimetype": "text/x-python",
   "name": "python",
   "nbconvert_exporter": "python",
   "pygments_lexer": "ipython3",
   "version": "3.9.16"
  }
 },
 "nbformat": 4,
 "nbformat_minor": 2
}
