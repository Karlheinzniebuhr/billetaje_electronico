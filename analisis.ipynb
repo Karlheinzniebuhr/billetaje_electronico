{
 "cells": [
  {
   "cell_type": "code",
   "execution_count": 1,
   "metadata": {},
   "outputs": [],
   "source": [
    "import polars as pl\n",
    "import seaborn as sns\n",
    "import matplotlib.pyplot as plt\n",
    "import plotly.express as px"
   ]
  },
  {
   "attachments": {},
   "cell_type": "markdown",
   "metadata": {},
   "source": [
    "# Pre-procesamiento\n",
    "\n",
    "- Descargar los datos https://drive.google.com/drive/folders/12EbE0PEEnCjUVjhzMDNa1W7M9tR4ZzwW?usp=share_link\n",
    "- Hacer merge de los datos\n",
    "```bash\n",
    "awk -F ';' 'FNR==1 && NR!=1{next} {print}' *.csv | sed '/^$/d' > ../merged.csv\n",
    "```"
   ]
  },
  {
   "attachments": {},
   "cell_type": "markdown",
   "metadata": {},
   "source": [
    "Diccionario de datos facilitado por [https://github.com/luchobenitez/monda-guasu](https://github.com/luchobenitez/monda-guasu)\n",
    "\n",
    "|Campo|Descripción|Tipo de Dato|\n",
    "|-----|-----------|------------|\n",
    "|serialtarjeta|Identificador de la tarjeta. Puede ser nominal o no, por lo que se puede llegar a la identidad del pasajero. Para nuestro análisis asumimos que es un pasajero|hash md5|\n",
    "|idsam|Identificador del chip instalado en el equipo verificador. No necesariamente permanece con el mismo equipo verificador. Puede cambiar de bus, inclusive de línea o de EOT. Asumimos que identifica al bus|string|\n",
    "|fechahoraevento|Timestamp del inicio del viaje|timestamp|\n",
    "|producto|Tipo de producto donde:  - CR. Crédito o saldo negativo de la tarjeta - ES. Uso Especial (Estudiante o discapacitado) - MO. Monedero o uso normal|string|\n",
    "|montoevento|Monto del evento descontado de la tarjeta. |entero|\n",
    "|consecutivoevento|Identificador consecutivo de numero de transacción realizado con la tarjeta identificada con serialtarjeta|entero|\n",
    "|identidad|Se refiere al propietario del validador donde: - 1. VMT - 2. MAS - 3. JAHA |entero|\n",
    "|tipoevento|Tipo de evento donde: - 4. Viaje Normal - 8. Devolución - 10. Recarga de la tarjeta. - 14. Devolucion. Utilizaremos solo los del tipo 4|punto flotante|\n",
    "|longitude|Longitud geográfica|punto flotante|\n",
    "|Latitude|Latitude geográfica|punto flotante|\n",
    "|idrutaestacion|Identificador de ruta asociado a una EOT. Ver tabla adicional|string|\n",
    "|tipotransporte|Tipo de transporte donde - 0. Bus municipal interno - 1. Normal  - 3. Diferencial|entero|"
   ]
  },
  {
   "attachments": {},
   "cell_type": "markdown",
   "metadata": {},
   "source": [
    "# Analizando frequencias de eventos diarios"
   ]
  },
  {
   "cell_type": "code",
   "execution_count": null,
   "metadata": {},
   "outputs": [],
   "source": [
    "df = pl.read_csv('merged.csv', separator=';', try_parse_dates=True, columns=['serialtarjeta', 'fechahoraevento'])\n",
    "df.describe()"
   ]
  },
  {
   "cell_type": "code",
   "execution_count": null,
   "metadata": {},
   "outputs": [],
   "source": [
    "df = df.with_column(pl.col(\"fechahoraevento\").dt.weekday().alias(\"weekday\"))\n",
    "df = df.with_column(pl.col(\"fechahoraevento\").dt.hour().alias(\"hour\"))\n",
    "\n",
    "grouped_df = df.groupby([\"weekday\", \"hour\"]).agg([pl.count(\"fechahoraevento\").alias(\"dia_hora_evento_count\")])\n",
    "grouped_df"
   ]
  },
  {
   "cell_type": "code",
   "execution_count": null,
   "metadata": {},
   "outputs": [],
   "source": [
    "# Assuming your grouped DataFrame is named `grouped_df`\n",
    "# and has columns named `weekday`, `hour`, and `fechahoraevento_count`\n",
    "grouped_df_pd = grouped_df.to_pandas()\n",
    "\n",
    "# Map weekday numbers to names\n",
    "weekday_map = {1: \"Monday\", 2: \"Tuesday\", 3: \"Wednesday\", 4: \"Thursday\", 5: \"Friday\", 6: \"Saturday\", 7: \"Sunday\"}\n",
    "grouped_df_pd[\"weekday_name\"] = grouped_df_pd[\"weekday\"].map(weekday_map)\n",
    "\n",
    "# Specify the order of the categories\n",
    "weekday_order = [\"Monday\", \"Tuesday\", \"Wednesday\", \"Thursday\", \"Friday\", \"Saturday\", \"Sunday\"]\n",
    "hour_order = list(range(24))"
   ]
  },
  {
   "cell_type": "code",
   "execution_count": null,
   "metadata": {},
   "outputs": [],
   "source": [
    "fig = px.bar(data_frame=grouped_df_pd, x=\"weekday_name\", y=\"dia_hora_evento_count\", color=\"hour\", category_orders={\"weekday_name\": weekday_order, \"hour\": hour_order}, barmode='group')\n",
    "fig.show()\n",
    "# save to html\n",
    "fig.write_html(\"dia_hora_evento_count.html\")"
   ]
  },
  {
   "cell_type": "code",
   "execution_count": null,
   "metadata": {},
   "outputs": [],
   "source": [
    "# Create a distribution plot of the serialtarjeta column\n",
    "fig = px.histogram(df2, x='serialtarjeta', nbins=100, title='Distribution of serialtarjeta')\n",
    "\n",
    "# Show the plot\n",
    "fig.show()"
   ]
  }
 ],
 "metadata": {
  "kernelspec": {
   "display_name": "base",
   "language": "python",
   "name": "python3"
  },
  "language_info": {
   "codemirror_mode": {
    "name": "ipython",
    "version": 3
   },
   "file_extension": ".py",
   "mimetype": "text/x-python",
   "name": "python",
   "nbconvert_exporter": "python",
   "pygments_lexer": "ipython3",
   "version": "3.9.16"
  }
 },
 "nbformat": 4,
 "nbformat_minor": 2
}
