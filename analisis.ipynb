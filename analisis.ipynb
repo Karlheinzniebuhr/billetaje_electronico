{
 "cells": [
  {
   "cell_type": "code",
   "execution_count": 1,
   "metadata": {},
   "outputs": [],
   "source": [
    "import polars as pl\n",
    "import seaborn as sns\n",
    "import matplotlib.pyplot as plt\n",
    "import plotly.express as px"
   ]
  },
  {
   "attachments": {},
   "cell_type": "markdown",
   "metadata": {},
   "source": [
    "# Pre-procesamiento\n",
    "\n",
    "- Descargar los datos https://drive.google.com/drive/folders/12EbE0PEEnCjUVjhzMDNa1W7M9tR4ZzwW?usp=share_link\n",
    "- Hacer merge de los datos\n",
    "```bash\n",
    "awk -F ';' 'FNR==1 && NR!=1{next} {print}' *.csv | sed '/^$/d' > ../merged.csv\n",
    "```"
   ]
  },
  {
   "cell_type": "code",
   "execution_count": 2,
   "metadata": {},
   "outputs": [
    {
     "data": {
      "text/plain": [
       "'\\nCampo Descripción Tipo de Dato\\nserialtarjeta: Serial de la Tarjeta que identifica al pasajero hash\\nidsam: Identificacion del bus de transporte público hash\\nfechahoraevento: timestamp del inicio del viaje timestamp\\nproducto: Tipo de Producto string\\nmontoevento: Monto del evento descontado de la tarjeta entero\\nconsecutivoevento: Consecutivo del evento entero\\nidentidad: Identidad entero\\ntipoevento: Tipo de Evento entero\\nlatitude: Latitud geografica punto flotante\\nlongitude: Longitud geografica punto flotante\\nidrutaestacion: Linea o ruta utilizada string\\ntipotransporte: tipo de transporte entero\\n'"
      ]
     },
     "execution_count": 2,
     "metadata": {},
     "output_type": "execute_result"
    }
   ],
   "source": [
    "'''\n",
    "Campo Descripción Tipo de Dato\n",
    "serialtarjeta: Serial de la Tarjeta que identifica al pasajero hash\n",
    "idsam: Identificacion del bus de transporte público hash\n",
    "fechahoraevento: timestamp del inicio del viaje timestamp\n",
    "producto: Tipo de Producto string\n",
    "montoevento: Monto del evento descontado de la tarjeta entero\n",
    "consecutivoevento: Consecutivo del evento entero\n",
    "identidad: Identidad entero\n",
    "tipoevento: Tipo de Evento entero\n",
    "latitude: Latitud geografica punto flotante\n",
    "longitude: Longitud geografica punto flotante\n",
    "idrutaestacion: Linea o ruta utilizada string\n",
    "tipotransporte: tipo de transporte entero\n",
    "'''"
   ]
  },
  {
   "attachments": {},
   "cell_type": "markdown",
   "metadata": {},
   "source": [
    "# Analizando frequencias de eventos diarios"
   ]
  },
  {
   "cell_type": "code",
   "execution_count": null,
   "metadata": {},
   "outputs": [],
   "source": [
    "df = pl.read_csv('merged.csv', separator=';', try_parse_dates=True, columns=['serialtarjeta', 'fechahoraevento'])\n",
    "df.describe()"
   ]
  },
  {
   "cell_type": "code",
   "execution_count": null,
   "metadata": {},
   "outputs": [],
   "source": [
    "df = df.with_column(pl.col(\"fechahoraevento\").dt.weekday().alias(\"weekday\"))\n",
    "df = df.with_column(pl.col(\"fechahoraevento\").dt.hour().alias(\"hour\"))\n",
    "\n",
    "grouped_df = df.groupby([\"weekday\", \"hour\"]).agg([pl.count(\"fechahoraevento\").alias(\"dia_hora_evento_count\")])\n",
    "grouped_df"
   ]
  },
  {
   "cell_type": "code",
   "execution_count": null,
   "metadata": {},
   "outputs": [],
   "source": [
    "# Assuming your grouped DataFrame is named `grouped_df`\n",
    "# and has columns named `weekday`, `hour`, and `fechahoraevento_count`\n",
    "grouped_df_pd = grouped_df.to_pandas()\n",
    "\n",
    "# Map weekday numbers to names\n",
    "weekday_map = {1: \"Monday\", 2: \"Tuesday\", 3: \"Wednesday\", 4: \"Thursday\", 5: \"Friday\", 6: \"Saturday\", 7: \"Sunday\"}\n",
    "grouped_df_pd[\"weekday_name\"] = grouped_df_pd[\"weekday\"].map(weekday_map)\n",
    "\n",
    "# Specify the order of the categories\n",
    "weekday_order = [\"Monday\", \"Tuesday\", \"Wednesday\", \"Thursday\", \"Friday\", \"Saturday\", \"Sunday\"]\n",
    "hour_order = list(range(24))"
   ]
  },
  {
   "cell_type": "code",
   "execution_count": null,
   "metadata": {},
   "outputs": [],
   "source": [
    "fig = px.bar(data_frame=grouped_df_pd, x=\"weekday_name\", y=\"dia_hora_evento_count\", color=\"hour\", category_orders={\"weekday_name\": weekday_order, \"hour\": hour_order}, barmode='group')\n",
    "fig.show()\n",
    "# save to html\n",
    "fig.write_html(\"dia_hora_evento_count.html\")"
   ]
  },
  {
   "cell_type": "code",
   "execution_count": null,
   "metadata": {},
   "outputs": [],
   "source": [
    "# Create a distribution plot of the serialtarjeta column\n",
    "fig = px.histogram(df2, x='serialtarjeta', nbins=100, title='Distribution of serialtarjeta')\n",
    "\n",
    "# Show the plot\n",
    "fig.show()"
   ]
  }
 ],
 "metadata": {
  "kernelspec": {
   "display_name": "base",
   "language": "python",
   "name": "python3"
  },
  "language_info": {
   "codemirror_mode": {
    "name": "ipython",
    "version": 3
   },
   "file_extension": ".py",
   "mimetype": "text/x-python",
   "name": "python",
   "nbconvert_exporter": "python",
   "pygments_lexer": "ipython3",
   "version": "3.9.16"
  }
 },
 "nbformat": 4,
 "nbformat_minor": 2
}
